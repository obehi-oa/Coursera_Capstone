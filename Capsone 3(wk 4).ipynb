{
    "cells": [
        {
            "cell_type": "code",
            "execution_count": null,
            "metadata": {},
            "outputs": [],
            "source": ""
        },
        {
            "cell_type": "code",
            "execution_count": null,
            "metadata": {},
            "outputs": [],
            "source": ""
        },
        {
            "cell_type": "markdown",
            "metadata": {
                "collapsed": true
            },
            "source": "<h1><center>BATTLE OF THE NEIGHBORHOODS -IBM PROJECT</center><h1>"
        },
        {
            "cell_type": "markdown",
            "metadata": {},
            "source": "INTRODUCTION /BUSSINESS PROBLEM"
        },
        {
            "cell_type": "markdown",
            "metadata": {},
            "source": "\nINTRODUCTION: This is written to help a European based courier company looking gain entrant into North America beginning with Canada. They are headquartered in the United Kingdom and have presence in most part of Europe. Their services are segmented into freight and courier. \nTo penetrate the Canadian market, they are undecided between leading with either Toronto or Calgary, as jointly, these cities command the biggest market in Canada. Due to limited knowledge of this market, they have contacted us to provide information that will help the selection of a best-case city and possibly a preferred city for operations.\n"
        },
        {
            "cell_type": "markdown",
            "metadata": {},
            "source": "Our engagement with them shows that the following criteria will be key to deciding a preferred city;\n<ul>\n<li>\tCity with the best base brackete tax rate</li>\n<li>\tBest contributor to national GDP   </li>\n<li>\tAbove average GDP   </li>\n<li>\tAverage to above average total population</li>\n\n</ul>"
        },
        {
            "cell_type": "markdown",
            "metadata": {},
            "source": "These criteria have been provided on the back of indices that have been important to their success in their current market.\nOur Objective is to locate neighborhoods that meet the criteria and recommend a best-case to the company and the target audience. The information received from this study will help the company decide on a city to commence their operations by providing required data about a host of cities.\nAlso, the information received would also help other same kind businesses considering the Canadian courier market.\n"
        },
        {
            "cell_type": "markdown",
            "metadata": {},
            "source": "<u>DATA DESCRIPTION"
        },
        {
            "cell_type": "markdown",
            "metadata": {},
            "source": "\nThe information needed by the client will be obtained from the following sources;\n\n<ol>\n    \n<li>\t<a href=\"https://en.m.wikipedia.org/wiki/Income_taxes_in_Canada\">Canada Income tax</a> & <a href=\"https://www.canada.ca/en/revenue-agency/services/tax/individuals/frequently-asked-questions-individuals/canadian-income-tax-rates-individuals-current-previous-years.html\">provincial tax by Wikipedia</a>: This provides specific details about personal income and corporate tax. The information is provided by the Federal Tax Rates 2020 and Wikipedia. Wikeipedia referenced the following sources; Canada Revenue Agency,2018 Federal Personal Income Tax Rates, Corporate Tax Rate and the Fiscal Reference Tables October 2018.The information collated include tax bracket per each province for 2020. This will be useful in comparing the tax requirement of Ontario and Alberta.</li> \n\n\n\n<li>\t<a href=\"https://en.m.wikipedia.org/wiki/List_of_Canadian_provinces_and_territories_by_gross_domestic_product\">Canada GDP contribution by Wikipedia</a>: This information originated from statistics Canada and the department of Finance Canada. The information shows us the percentage contribution as well absolute figure of the GDP contribution of each province. </li>\n\n<li>\t <a href=\"https://en.m.wikipedia.org/wiki/Population_of_Canada_by_province_and_territory\">Population per province and city</a>: The information provided was on the back of the 2016 census and the Interprovincial migration. This help us determine the average population of cities and decide on those that meet our criteria</li> \n\n<li>\t<a href=\"https://en.m.wikipedia.org/wiki/National_Highway_System_(Canada)\">Road network</a>: This shows us the size of the road network in a city. This information will help determine the accessibility of a city. This will be important in the courier and freight business.</li>\n\n<li>\t<a href=\"https://developer.foursquare.com/\">Foursquare API</a> : To collect location data about competitors in the preferred location</li>\n    </ol>\n"
        },
        {
            "cell_type": "code",
            "execution_count": 94,
            "metadata": {},
            "outputs": [
                {
                    "name": "stdout",
                    "output_type": "stream",
                    "text": "Libraries imported.\n"
                }
            ],
            "source": "# importing necessary libraries\nfrom bs4 import BeautifulSoup\nimport requests\nimport numpy as np\nimport pandas as pd\nfrom geopy.geocoders import Nominatim\n##import folium\nimport json\nfrom pandas.io.json import json_normalize # tranform JSON file into a pandas dataframe\nfrom sklearn.cluster import KMeans\nimport matplotlib.cm as cm\nimport matplotlib.colors as colors\npd.set_option('display.max_columns', None)\npd.set_option('display.max_rows', None)\npd.set_option('display.width',1000)\n\nprint('Libraries imported.')"
        },
        {
            "cell_type": "code",
            "execution_count": 95,
            "metadata": {},
            "outputs": [],
            "source": "url = 'https://en.wikipedia.org/wiki/List_of_postal_codes_of_Canada:_M'\nresult = requests.get(url)\nsoup = BeautifulSoup(result.content, 'html.parser')\ntable = soup.find('table')\ntrs = table.find_all('tr')\nrows = []\nfor tr in trs:\n    i = tr.find_all('td')\n    if i:\n        rows.append(i)\n        \nlst = []\nfor row in rows:\n    postalcode = row[0].text.rstrip()\n    borough = row[1].text.rstrip()\n    neighborhood = row[2].text.rstrip()\n    if borough != 'Not assigned':\n        if neighborhood == 'Not assigned':\n            neighborhood = borough\n        lst.append([postalcode, borough, neighborhood])\n"
        },
        {
            "cell_type": "code",
            "execution_count": 96,
            "metadata": {
                "scrolled": true
            },
            "outputs": [
                {
                    "data": {
                        "text/plain": "[['Newfoundland and Labrador',\n  '8.7% on the first $37,929 of taxable income, +\\n14.5% on the next $37,929, +\\n15.8% on the next $59,574, +\\n17.3% on the next $54,172, +\\n18.3% on the amount over $189,604'],\n ['Prince Edward Island',\n  '9.8% on the first $31,984 of taxable income, +\\n13.8% on the next $31,985, +\\n16.7% on the amount over $63,969'],\n ['Nova Scotia',\n  '8.79% on the first $29,590 of taxable income, +\\n14.95% on the next $29,590, +\\n16.67% on the next $33,820, +\\n17.5% on the next $57,000, +\\n21% on the amount over $150,000'],\n ['New Brunswick',\n  '9.68% on the first $43,401 of taxable income, +\\n14.82% on the next $43,402, +\\n16.52% on the next $54,319, +\\n17.84% on the next $19,654, +\\n20.3% on the amount over $160,776'],\n ['Quebec', 'Go to Income tax rates (Revenu Qu\u00e9bec Web site).'],\n ['Ontario',\n  '5.05% on the first $44,740 of taxable income, +\\n9.15% on the next $44,742, +\\n11.16% on the next $60,518, +\\n12.16% on the next $70,000, +\\n13.16 % on the amount over $220,000'],\n ['Manitoba',\n  '10.8% on the first $33,389 of taxable income, +\\n12.75% on the next $38,775, +\\n17.4% on the amount over $72,164'],\n ['Saskatchewan',\n  '10.5% on the first $45,225 of taxable income, +\\n12.5% on the next $83,989, +\\n14.5% on the amount over $129,214'],\n ['Alberta',\n  '10% on the first $131,220 of taxable income, +\\n12% on the next $26,244, +\\n13% on the next $52,488, +\\n14% on the next $104,976, +\\n15% on the amount over $314,928'],\n ['British Columbia',\n  '5.06% on the first $41,725 of taxable income, +\\n7.7% on the next $41,726, +\\n10.5% on the next $12,361, +\\n12.29% on the next $20,532, +\\n14.7% on the next $41,404, +\\n16.8% on the\\xa0amount over\\xa0$157,748'],\n ['Yukon',\n  '6.4% on the first $48,535 of taxable income, +\\n9% on the next $48,534, +\\n10.9% on the next $54,404, +\\n12.8% on the next $349,527, +\\n15% on the amount over $500,000'],\n ['Northwest Territories',\n  '5.9% on the first $43,957 of taxable income, +\\n8.6% on the next $43,959, +\\n12.2% on the next $55,016, +\\n14.05% on the amount over $142,932'],\n ['Nunavut',\n  '4% on the first $46,277 of taxable income, +\\n7% on the next $46,278, +\\n9% on the next $57,918, +\\n11.5% on the amount over $150,473']]"
                    },
                    "execution_count": 96,
                    "metadata": {},
                    "output_type": "execute_result"
                }
            ],
            "source": "url='https://www.canada.ca/en/revenue-agency/services/tax/individuals/frequently-asked-questions-individuals/canadian-income-tax-rates-individuals-current-previous-years.html'\nresult=requests.get(url)\nsoup=BeautifulSoup(result.content,'html.parser')\ntable=soup.find('table')\ntrs=table.find_all('tr')\nrows=[]\n\nfor tr in trs:\n    i = tr.find_all('td')\n    if i:\n        rows.append(i)\n        \ntaxtable = []\nfor row in rows:\n    provinces = row[0].text.rstrip()\n    taxrates = row[1].text.rstrip() \n    taxtable.append([provinces,taxrates])\n    \ntaxtable"
        },
        {
            "cell_type": "code",
            "execution_count": 98,
            "metadata": {},
            "outputs": [
                {
                    "name": "stdout",
                    "output_type": "stream",
                    "text": "(13, 2)\n"
                }
            ],
            "source": "cols = ['provinces','taxratesCode',]\ndf_tax = pd.DataFrame(taxtable, columns=cols)\nprint(df_tax.shape)"
        },
        {
            "cell_type": "code",
            "execution_count": 99,
            "metadata": {
                "scrolled": false
            },
            "outputs": [
                {
                    "data": {
                        "text/html": "<div>\n<style scoped>\n    .dataframe tbody tr th:only-of-type {\n        vertical-align: middle;\n    }\n\n    .dataframe tbody tr th {\n        vertical-align: top;\n    }\n\n    .dataframe thead th {\n        text-align: right;\n    }\n</style>\n<table border=\"1\" class=\"dataframe\">\n  <thead>\n    <tr style=\"text-align: right;\">\n      <th></th>\n      <th>provinces</th>\n      <th>taxratesCode</th>\n    </tr>\n  </thead>\n  <tbody>\n    <tr>\n      <th>0</th>\n      <td>Newfoundland and Labrador</td>\n      <td>8.7% on the first $37,929 of taxable income, +...</td>\n    </tr>\n    <tr>\n      <th>1</th>\n      <td>Prince Edward Island</td>\n      <td>9.8% on the first $31,984 of taxable income, +...</td>\n    </tr>\n    <tr>\n      <th>2</th>\n      <td>Nova Scotia</td>\n      <td>8.79% on the first $29,590 of taxable income, ...</td>\n    </tr>\n    <tr>\n      <th>3</th>\n      <td>New Brunswick</td>\n      <td>9.68% on the first $43,401 of taxable income, ...</td>\n    </tr>\n    <tr>\n      <th>4</th>\n      <td>Quebec</td>\n      <td>Go to Income tax rates (Revenu Qu\u00e9bec Web site).</td>\n    </tr>\n    <tr>\n      <th>5</th>\n      <td>Ontario</td>\n      <td>5.05% on the first $44,740 of taxable income, ...</td>\n    </tr>\n    <tr>\n      <th>6</th>\n      <td>Manitoba</td>\n      <td>10.8% on the first $33,389 of taxable income, ...</td>\n    </tr>\n    <tr>\n      <th>7</th>\n      <td>Saskatchewan</td>\n      <td>10.5% on the first $45,225 of taxable income, ...</td>\n    </tr>\n    <tr>\n      <th>8</th>\n      <td>Alberta</td>\n      <td>10% on the first $131,220 of taxable income, +...</td>\n    </tr>\n    <tr>\n      <th>9</th>\n      <td>British Columbia</td>\n      <td>5.06% on the first $41,725 of taxable income, ...</td>\n    </tr>\n    <tr>\n      <th>10</th>\n      <td>Yukon</td>\n      <td>6.4% on the first $48,535 of taxable income, +...</td>\n    </tr>\n    <tr>\n      <th>11</th>\n      <td>Northwest Territories</td>\n      <td>5.9% on the first $43,957 of taxable income, +...</td>\n    </tr>\n    <tr>\n      <th>12</th>\n      <td>Nunavut</td>\n      <td>4% on the first $46,277 of taxable income, +\\n...</td>\n    </tr>\n  </tbody>\n</table>\n</div>",
                        "text/plain": "                    provinces                                       taxratesCode\n0   Newfoundland and Labrador  8.7% on the first $37,929 of taxable income, +...\n1        Prince Edward Island  9.8% on the first $31,984 of taxable income, +...\n2                 Nova Scotia  8.79% on the first $29,590 of taxable income, ...\n3               New Brunswick  9.68% on the first $43,401 of taxable income, ...\n4                      Quebec   Go to Income tax rates (Revenu Qu\u00e9bec Web site).\n5                     Ontario  5.05% on the first $44,740 of taxable income, ...\n6                    Manitoba  10.8% on the first $33,389 of taxable income, ...\n7                Saskatchewan  10.5% on the first $45,225 of taxable income, ...\n8                     Alberta  10% on the first $131,220 of taxable income, +...\n9            British Columbia  5.06% on the first $41,725 of taxable income, ...\n10                      Yukon  6.4% on the first $48,535 of taxable income, +...\n11      Northwest Territories  5.9% on the first $43,957 of taxable income, +...\n12                    Nunavut  4% on the first $46,277 of taxable income, +\\n..."
                    },
                    "execution_count": 99,
                    "metadata": {},
                    "output_type": "execute_result"
                }
            ],
            "source": "df_tax"
        },
        {
            "cell_type": "code",
            "execution_count": 130,
            "metadata": {},
            "outputs": [
                {
                    "name": "stdout",
                    "output_type": "stream",
                    "text": "Libraries imported.\n"
                },
                {
                    "data": {
                        "text/html": "<div>\n<style scoped>\n    .dataframe tbody tr th:only-of-type {\n        vertical-align: middle;\n    }\n\n    .dataframe tbody tr th {\n        vertical-align: top;\n    }\n\n    .dataframe thead th {\n        text-align: right;\n    }\n</style>\n<table border=\"1\" class=\"dataframe\">\n  <thead>\n    <tr style=\"text-align: right;\">\n      <th></th>\n      <th>provinces</th>\n      <th>taxratesCode</th>\n    </tr>\n  </thead>\n  <tbody>\n    <tr>\n      <th>5</th>\n      <td>Ontario</td>\n      <td>5.05% on the first $44,740 of taxable income, ...</td>\n    </tr>\n    <tr>\n      <th>8</th>\n      <td>Alberta</td>\n      <td>10% on the first $131,220 of taxable income, +...</td>\n    </tr>\n  </tbody>\n</table>\n</div>",
                        "text/plain": "  provinces                                       taxratesCode\n5   Ontario  5.05% on the first $44,740 of taxable income, ...\n8   Alberta  10% on the first $131,220 of taxable income, +..."
                    },
                    "execution_count": 130,
                    "metadata": {},
                    "output_type": "execute_result"
                }
            ],
            "source": "\nfrom bs4 import BeautifulSoup\nimport requests\nimport numpy as np\nimport pandas as pd\nfrom geopy.geocoders import Nominatim\n##import folium\nimport json\nfrom pandas.io.json import json_normalize # tranform JSON file into a pandas dataframe\nfrom sklearn.cluster import KMeans\nimport matplotlib.cm as cm\nimport matplotlib.colors as colors\npd.set_option('display.max_columns', None)\npd.set_option('display.max_rows', None)\npd.set_option('display.width',1000)\n\nprint('Libraries imported.')\n\nurl = 'https://www.canada.ca/en/revenue-agency/services/tax/individuals/frequently-asked-questions-individuals/canadian-income-tax-rates-individuals-current-previous-years.html'\nresult = requests.get(url)\nsoup = BeautifulSoup(result.content, 'html.parser')\ntable = soup.find('table')\ntrs = table.find_all('tr')\nrows = []\n\nfor tr in trs:\n    i = tr.find_all('td')\n    if i:\n        rows.append(i)\n\ntaxtable = []\nfor row in rows:\n    provinces = row[0].text.rstrip()\n    taxrates = row[1].text.rstrip()\n    taxtable.append([provinces, taxrates])\n\n\ncols = ['provinces','taxratesCode',]\ndf_tax = pd.DataFrame(taxtable, columns=cols)\ndf_tax.loc[df_tax['provinces'].isin(['Ontario','Alberta'])]"
        },
        {
            "cell_type": "code",
            "execution_count": null,
            "metadata": {
                "scrolled": true
            },
            "outputs": [],
            "source": ""
        },
        {
            "cell_type": "code",
            "execution_count": 137,
            "metadata": {},
            "outputs": [
                {
                    "data": {
                        "text/html": "<div>\n<style scoped>\n    .dataframe tbody tr th:only-of-type {\n        vertical-align: middle;\n    }\n\n    .dataframe tbody tr th {\n        vertical-align: top;\n    }\n\n    .dataframe thead th {\n        text-align: right;\n    }\n</style>\n<table border=\"1\" class=\"dataframe\">\n  <thead>\n    <tr style=\"text-align: right;\">\n      <th></th>\n      <th>provinces</th>\n      <th>gdp</th>\n      <th>national_gdp_contribution</th>\n      <th>population_2018</th>\n      <th>gdp_per_capital</th>\n      <th>market_income_percapital</th>\n    </tr>\n  </thead>\n  <tbody>\n    <tr>\n      <th>0</th>\n      <td>Canada</td>\n      <td>2,223,856</td>\n      <td>100</td>\n      <td>37,057,765</td>\n      <td>60,011</td>\n      <td>33,029</td>\n    </tr>\n    <tr>\n      <th>1</th>\n      <td>British Columbia</td>\n      <td>295,401</td>\n      <td>13.28</td>\n      <td>5,001,170</td>\n      <td>59,066</td>\n      <td>34,426</td>\n    </tr>\n    <tr>\n      <th>2</th>\n      <td>Alberta</td>\n      <td>344,812</td>\n      <td>15.51</td>\n      <td>4,300,721</td>\n      <td>80,175</td>\n      <td>39,056</td>\n    </tr>\n    <tr>\n      <th>3</th>\n      <td>Saskatchewan</td>\n      <td>80,679</td>\n      <td>3.63</td>\n      <td>1,162,978</td>\n      <td>69,373</td>\n      <td>31,724</td>\n    </tr>\n    <tr>\n      <th>4</th>\n      <td>Manitoba</td>\n      <td>72,688</td>\n      <td>3.27</td>\n      <td>1,353,403</td>\n      <td>53,708</td>\n      <td>28,853</td>\n    </tr>\n    <tr>\n      <th>5</th>\n      <td>Ontario</td>\n      <td>857,384</td>\n      <td>38.55</td>\n      <td>14,318,545</td>\n      <td>59,879</td>\n      <td>34,033</td>\n    </tr>\n    <tr>\n      <th>6</th>\n      <td>Quebec</td>\n      <td>439,375</td>\n      <td>19.76</td>\n      <td>8,387,632</td>\n      <td>52,384</td>\n      <td>29,689</td>\n    </tr>\n    <tr>\n      <th>7</th>\n      <td>New Brunswick</td>\n      <td>36,966</td>\n      <td>1.66</td>\n      <td>770,921</td>\n      <td>47,950</td>\n      <td>26,992</td>\n    </tr>\n    <tr>\n      <th>8</th>\n      <td>Prince Edward Island</td>\n      <td>6,994</td>\n      <td>0.31</td>\n      <td>153,584</td>\n      <td>45,539</td>\n      <td>27,043</td>\n    </tr>\n    <tr>\n      <th>9</th>\n      <td>Nova Scotia</td>\n      <td>44,354</td>\n      <td>1.99</td>\n      <td>959,500</td>\n      <td>46,226</td>\n      <td>28,672</td>\n    </tr>\n    <tr>\n      <th>10</th>\n      <td>Newfoundland and Labrador</td>\n      <td>33,241</td>\n      <td>1.49</td>\n      <td>525,604</td>\n      <td>63,243</td>\n      <td>29,646</td>\n    </tr>\n    <tr>\n      <th>11</th>\n      <td>Yukon</td>\n      <td>3,046</td>\n      <td>0.14</td>\n      <td>40,612</td>\n      <td>75,002</td>\n      <td>39,708</td>\n    </tr>\n    <tr>\n      <th>12</th>\n      <td>Northwest Territories</td>\n      <td>4,730</td>\n      <td>0.21</td>\n      <td>44,956</td>\n      <td>105,214</td>\n      <td>41,324</td>\n    </tr>\n    <tr>\n      <th>13</th>\n      <td>Nunavut</td>\n      <td>3,421</td>\n      <td>0.15</td>\n      <td>38,139</td>\n      <td>89,698</td>\n      <td>26,174</td>\n    </tr>\n  </tbody>\n</table>\n</div>",
                        "text/plain": "                    provinces        gdp national_gdp_contribution population_2018 gdp_per_capital market_income_percapital\n0                      Canada  2,223,856                       100      37,057,765          60,011                   33,029\n1            British Columbia    295,401                     13.28       5,001,170          59,066                   34,426\n2                     Alberta    344,812                     15.51       4,300,721          80,175                   39,056\n3                Saskatchewan     80,679                      3.63       1,162,978          69,373                   31,724\n4                    Manitoba     72,688                      3.27       1,353,403          53,708                   28,853\n5                     Ontario    857,384                     38.55      14,318,545          59,879                   34,033\n6                      Quebec    439,375                     19.76       8,387,632          52,384                   29,689\n7               New Brunswick     36,966                      1.66         770,921          47,950                   26,992\n8        Prince Edward Island      6,994                      0.31         153,584          45,539                   27,043\n9                 Nova Scotia     44,354                      1.99         959,500          46,226                   28,672\n10  Newfoundland and Labrador     33,241                      1.49         525,604          63,243                   29,646\n11                      Yukon      3,046                      0.14          40,612          75,002                   39,708\n12      Northwest Territories      4,730                      0.21          44,956         105,214                   41,324\n13                    Nunavut      3,421                      0.15          38,139          89,698                   26,174"
                    },
                    "execution_count": 137,
                    "metadata": {},
                    "output_type": "execute_result"
                }
            ],
            "source": "url2 = 'https://en.m.wikipedia.org/wiki/List_of_Canadian_provinces_and_territories_by_gross_domestic_product'\nresult2 = requests.get(url2)\nsoup2 = BeautifulSoup(result2.text, 'html.parser')\ntable2 = soup2.find('table',{'class':\"wikitable sortable\"}).tbody\ntrs2 = table2.find_all('tr')\nrows = []\n\nfor tr in trs2:\n    i = tr.find_all('td')\n    if i:\n        rows.append(i)\n        \n\n\n\ngdptable = []\n\n\n    \nfor row2 in rows:\n    provinces=row2[0].text.strip()\n    gdp = row2[1].text.rstrip()\n    national_gdp_contribution = row2[2].text.rstrip()\n    population_2018 = row2[3].text.rstrip()\n    gdp_per_capital = row2[4].text.rstrip()\n    market_income_percapital = row2[5].text.rstrip()\n    gdptable.append([provinces,gdp,national_gdp_contribution,population_2018,gdp_per_capital,market_income_percapital])\ncols1 = ['provinces','gdp','national_gdp_contribution','population_2018','gdp_per_capital','market_income_percapital']\ndf_gdp = pd.DataFrame(gdptable, columns=cols1)\ndf_gdp"
        },
        {
            "cell_type": "code",
            "execution_count": null,
            "metadata": {},
            "outputs": [],
            "source": ""
        },
        {
            "cell_type": "code",
            "execution_count": null,
            "metadata": {},
            "outputs": [],
            "source": "\n"
        },
        {
            "cell_type": "code",
            "execution_count": 133,
            "metadata": {},
            "outputs": [],
            "source": "#table2 = soup2.find('table',{'class':\"wikitable sortable\"}).tbody\n#trs2 = table2.find_all('tr')\n\n#columns11=[v.text.replace('\\n','') for v in trs2[0].find_all('th')]\n#dfo=pd.DataFrame(columns=columns11)\n#for z in range(1,len(trs2)):\n #   tdo=trs2[z].find_all('td')\n  #  values=tdo[0].text.replace('\\xa0\\xa0',''),tdo[1].text,tdo[2].text,tdo[3].text,tdo[4].text,tdo[5].text.replace('\\n','')\n    \n#dfo=dfo.append(pd.Series(values,index=columns11), ignore_index=True)\n#dfo\n    "
        },
        {
            "cell_type": "code",
            "execution_count": null,
            "metadata": {
                "scrolled": true
            },
            "outputs": [],
            "source": ""
        },
        {
            "cell_type": "code",
            "execution_count": null,
            "metadata": {
                "scrolled": true
            },
            "outputs": [],
            "source": ""
        },
        {
            "cell_type": "code",
            "execution_count": null,
            "metadata": {},
            "outputs": [],
            "source": ""
        },
        {
            "cell_type": "code",
            "execution_count": null,
            "metadata": {},
            "outputs": [],
            "source": ""
        },
        {
            "cell_type": "code",
            "execution_count": null,
            "metadata": {},
            "outputs": [],
            "source": ""
        },
        {
            "cell_type": "code",
            "execution_count": null,
            "metadata": {},
            "outputs": [],
            "source": ""
        },
        {
            "cell_type": "code",
            "execution_count": null,
            "metadata": {},
            "outputs": [],
            "source": ""
        },
        {
            "cell_type": "code",
            "execution_count": null,
            "metadata": {},
            "outputs": [],
            "source": ""
        }
    ],
    "metadata": {
        "kernelspec": {
            "display_name": "Python 3.6",
            "language": "python",
            "name": "python3"
        },
        "language_info": {
            "codemirror_mode": {
                "name": "ipython",
                "version": 3
            },
            "file_extension": ".py",
            "mimetype": "text/x-python",
            "name": "python",
            "nbconvert_exporter": "python",
            "pygments_lexer": "ipython3",
            "version": "3.6.9"
        }
    },
    "nbformat": 4,
    "nbformat_minor": 1
}