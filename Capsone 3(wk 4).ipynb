{
    "cells": [
        {
            "cell_type": "markdown",
            "metadata": {
                "collapsed": true
            },
            "source": "<h1><center>BATTLE OF THE NEIGHBORHOODS -IBM PROJECT</center><h1>"
        },
        {
            "cell_type": "markdown",
            "metadata": {},
            "source": "<u>INTRODUCTION /BUSSINESS PROBLEM"
        },
        {
            "cell_type": "markdown",
            "metadata": {},
            "source": "This is written to help a European based courier company looking gain entrant to North America beginning with Canada. They are headquartered in the United Kingdom and have presence in most part of Europe. Their services are segmented into freight and courier. \nTo penetrate the Canadian market, they are undecided between leading with either Ontario or Alberta, as jointly, these provinces command the biggest market in Canada. Due to limited knowledge of this market, they have contacted us to provide information that will help the selection of a best-case province and possibly a preferred city for operations.\n"
        },
        {
            "cell_type": "markdown",
            "metadata": {},
            "source": "Our engagement with them shows that the following criteria will be key to deciding a preferred city;\n<ul>\n<li>\tCity with an average to Lower than average tax </li>\n<li>\tAverage to above average number of companies   </li>\n<li>\tAbove average GDP   </li>\n<li>\tAverage to above average total population</li>\n<li>\tGood road network </li>\n<li>\tAverage to below average cost of gas</li>\n<li>\tAverage to below average property valuation</li>\n</ul>"
        },
        {
            "cell_type": "markdown",
            "metadata": {},
            "source": "These criteria have been provided on the back of indices that have been important to their success in their current market.\nOur Objective is to locate neighborhoods that meet the criteria and recommend a best-case to the company and the target audience. The information received from this study will help the company decide on a city to commence their operations by providing required data about a host of cities.\nAlso, the information received would also help other same kind businesses considering the Canadian courier market.\n"
        },
        {
            "cell_type": "code",
            "execution_count": null,
            "metadata": {},
            "outputs": [],
            "source": ""
        },
        {
            "cell_type": "markdown",
            "metadata": {},
            "source": "<u>DATA DESCRIPTION"
        },
        {
            "cell_type": "markdown",
            "metadata": {},
            "source": "\nThe information needed by the client will be obtained from the following sources;\n\n<ol>\n    \n<li>\t<a href=\"https://en.m.wikipedia.org/wiki/Income_taxes_in_Canada\">Canada Income tax</a> & <a href=\"https://www.canada.ca/en/revenue-agency/services/tax/individuals/frequently-asked-questions-individuals/canadian-income-tax-rates-individuals-current-previous-years.html\">provincial tax by Wikipedia</a>: This provides specific details about personal income and corporate tax. The information is provided by the Federal Tax Rates 2020 and Wikipedia. Wikeipedia referenced the following sources; Canada Revenue Agency,2018 Federal Personal Income Tax Rates, Corporate Tax Rate and the Fiscal Reference Tables October 2018.The information collated include tax bracket per each province for 2020. This will be useful in comparing the tax requirement of Ontario and Alberta.</li> \n\n\n\n<li>\t<a href=\"https://en.m.wikipedia.org/wiki/List_of_Canadian_provinces_and_territories_by_gross_domestic_product\">Canada GDP contribution by Wikipedia</a>: This information originated from statistics Canada and the department of Finance Canada. The information shows us the percentage contribution as well absolute figure of the GDP contribution of each province. </li>\n\n<li>\t <a href=\"https://en.m.wikipedia.org/wiki/Population_of_Canada_by_province_and_territory\">Population per province and city</a>: The information provided was on the back of the 2016 census and the Interprovincial migration. This help us determine the average population of cities and decide on those that meet our criteria</li> \n\n<li>\t<a href=\"https://en.m.wikipedia.org/wiki/National_Highway_System_(Canada)\">Road network</a>: This shows us the size of the road network in a city. This information will help determine the accessibility of a city. This will be important in the courier and freight business.</li>\n\n<li>\t<a href=\"https://developer.foursquare.com/\">Foursquare API</a> : To collect location data about competitors in the preferred location</li>\n    </ol>\n"
        },
        {
            "cell_type": "code",
            "execution_count": null,
            "metadata": {},
            "outputs": [],
            "source": ""
        }
    ],
    "metadata": {
        "kernelspec": {
            "display_name": "Python 3.6",
            "language": "python",
            "name": "python3"
        },
        "language_info": {
            "codemirror_mode": {
                "name": "ipython",
                "version": 3
            },
            "file_extension": ".py",
            "mimetype": "text/x-python",
            "name": "python",
            "nbconvert_exporter": "python",
            "pygments_lexer": "ipython3",
            "version": "3.6.9"
        }
    },
    "nbformat": 4,
    "nbformat_minor": 1
}